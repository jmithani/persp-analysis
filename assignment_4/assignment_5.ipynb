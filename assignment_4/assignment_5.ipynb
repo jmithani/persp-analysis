{
 "cells": [
  {
   "cell_type": "code",
   "execution_count": 50,
   "metadata": {
    "collapsed": true
   },
   "outputs": [],
   "source": [
    "import numpy as np\n",
    "import matplotlib.pyplot as plt\n",
    "from matplotlib.ticker import MultipleLocator\n",
    "import seaborn as sns\n",
    "%matplotlib inline"
   ]
  },
  {
   "cell_type": "code",
   "execution_count": 60,
   "metadata": {
    "collapsed": false
   },
   "outputs": [],
   "source": [
    "def income_sim(param):\n",
    "    \n",
    "    # setting random seed and generating a matrix of 40 x 10,000 errors (10,000 sets of 40)\n",
    "    np.random.seed()\n",
    "    err = np.random.normal(param['err_m'], param['std'], (param['num_year'], param['num_sim']))\n",
    "    \n",
    "    # making the main matrix and filling with zeroes, ln because that is the structure of the first equation\n",
    "    ln_income = np.zeros((param['num_year'], param['num_sim']))\n",
    "    \n",
    "    # filling with first equation\n",
    "    ln_income[0, :] = np.log(param['inc_s']) + err[0, :]\n",
    "    \n",
    "    for year in range(1, param['num_year']):\n",
    "        ln_income[year, :] = ((1 - param['p']) * (np.log(param['inc_s']) + (param['g'] * (year - 0)))) + (param['p'] * np.log(ln_income[year - 1, :])) + err[year, :]\n",
    "    \n",
    "    print ln_income[1,1]\n",
    "    income = np.exp(ln_income)\n",
    "    return income;"
   ]
  },
  {
   "cell_type": "markdown",
   "metadata": {},
   "source": [
    "### Question 1"
   ]
  },
  {
   "cell_type": "code",
   "execution_count": 61,
   "metadata": {
    "collapsed": false
   },
   "outputs": [
    {
     "name": "stdout",
     "output_type": "stream",
     "text": [
      "9.5479449009\n"
     ]
    },
    {
     "data": {
      "text/plain": [
       "<matplotlib.text.Text at 0x17891ac8>"
      ]
     },
     "execution_count": 61,
     "metadata": {},
     "output_type": "execute_result"
    },
    {
     "data": {
      "image/png": "[encoded data removed]",
      "text/plain": [
       "<matplotlib.figure.Figure at 0x1072ebe0>"
      ]
     },
     "metadata": {},
     "output_type": "display_data"
    }
   ],
   "source": [
    "param = {\n",
    "    'p'              :      0.2,                   # peristence\n",
    "    'inc_s'          :      80000,                 # starting income\n",
    "    'g'              :      0.03,                  # growth rate\n",
    "    'num_sim'        :      10000,                 # number of simulations to run\n",
    "    'st_year'        :      2019,                  # starting year\n",
    "    'num_year'       :      40,                    # number of years working\n",
    "    'std'            :      0.1,                   # standard deviation\n",
    "    'err_m'          :      0                      # error mean\n",
    "\n",
    "}\n",
    "\n",
    "# running simulation\n",
    "simulations = income_sim(param)\n",
    "\n",
    "# plotting one instance\n",
    "instance = 600 # random instance to plot\n",
    "year_range = np.arange(param['st_year'], param['st_year'] + param['num_year'])\n",
    "fig, ax = plt.subplots()\n",
    "plt.plot(year_range, simulations[: , instance])\n",
    "minor_locator = MultipleLocator(1)\n",
    "ax.xaxis.set_minor_locator(minor_locator)\n",
    "plt.grid(b=True, which='major', color='grey', linestyle='-')\n",
    "plt.title('Example of a simulated lifetime income', fontsize=12)\n",
    "plt.xlabel('Year')\n",
    "plt.ylabel('Annual income in USD')\n",
    "\n",
    "\n",
    "\n"
   ]
  },
  {
   "cell_type": "code",
   "execution_count": null,
   "metadata": {
    "collapsed": true
   },
   "outputs": [],
   "source": []
  }
 ],
 "metadata": {
  "kernelspec": {
   "display_name": "Python 2",
   "language": "python",
   "name": "python2"
  },
  "language_info": {
   "codemirror_mode": {
    "name": "ipython",
    "version": 2
   },
   "file_extension": ".py",
   "mimetype": "text/x-python",
   "name": "python",
   "nbconvert_exporter": "python",
   "pygments_lexer": "ipython2",
   "version": "2.7.13"
  }
 },
 "nbformat": 4,
 "nbformat_minor": 2
}
